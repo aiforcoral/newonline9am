{
 "cells": [
  {
   "cell_type": "code",
   "execution_count": 3,
   "metadata": {},
   "outputs": [
    {
     "data": {
      "text/plain": [
       "dict"
      ]
     },
     "execution_count": 3,
     "metadata": {},
     "output_type": "execute_result"
    }
   ],
   "source": [
    "a = {}\n",
    "type(a)"
   ]
  },
  {
   "cell_type": "code",
   "execution_count": 4,
   "metadata": {},
   "outputs": [
    {
     "name": "stdout",
     "output_type": "stream",
     "text": [
      "{2: 'Apple', 3: 'ball'}\n"
     ]
    }
   ],
   "source": [
    "a = {2:\"Apple\",3:\"ball\"}\n",
    "print(a)"
   ]
  },
  {
   "cell_type": "code",
   "execution_count": 5,
   "metadata": {},
   "outputs": [],
   "source": [
    "b = {\"a\":\"Apple\",\"b\":\"Ball\"}"
   ]
  },
  {
   "cell_type": "code",
   "execution_count": 6,
   "metadata": {},
   "outputs": [
    {
     "name": "stdout",
     "output_type": "stream",
     "text": [
      "Apple\n",
      "Apple\n"
     ]
    }
   ],
   "source": [
    "print(a[2])\n",
    "print(b[\"a\"])"
   ]
  },
  {
   "cell_type": "code",
   "execution_count": 7,
   "metadata": {},
   "outputs": [
    {
     "data": {
      "text/plain": [
       "{'a': 'Ant', 'b': 'Ball'}"
      ]
     },
     "execution_count": 7,
     "metadata": {},
     "output_type": "execute_result"
    }
   ],
   "source": [
    "b = {\"a\":\"Apple\",\"b\":\"Ball\"}\n",
    "b[\"a\"]=\"Ant\"\n",
    "b"
   ]
  },
  {
   "cell_type": "code",
   "execution_count": 8,
   "metadata": {},
   "outputs": [
    {
     "data": {
      "text/plain": [
       "{'b': 'Ball'}"
      ]
     },
     "execution_count": 8,
     "metadata": {},
     "output_type": "execute_result"
    }
   ],
   "source": [
    "del b[\"a\"]\n",
    "b"
   ]
  },
  {
   "cell_type": "code",
   "execution_count": 10,
   "metadata": {},
   "outputs": [
    {
     "name": "stdout",
     "output_type": "stream",
     "text": [
      "{'b': 'Ball'}\n",
      "Apple\n"
     ]
    }
   ],
   "source": [
    "b = {\"a\":\"Apple\",\"b\":\"Ball\"}\n",
    "c = b.pop(\"a\")\n",
    "print(b)\n",
    "print(c)"
   ]
  },
  {
   "cell_type": "code",
   "execution_count": 12,
   "metadata": {},
   "outputs": [
    {
     "name": "stdout",
     "output_type": "stream",
     "text": [
      "Apple\n",
      "Ball\n"
     ]
    }
   ],
   "source": [
    "b = {\"a\":\"Apple\",\"b\":\"Ball\"}\n",
    "for i in b.values():\n",
    "    print(i)"
   ]
  },
  {
   "cell_type": "code",
   "execution_count": 13,
   "metadata": {},
   "outputs": [
    {
     "name": "stdout",
     "output_type": "stream",
     "text": [
      "a\n",
      "b\n"
     ]
    }
   ],
   "source": [
    "b = {\"a\":\"Apple\",\"b\":\"Ball\"}\n",
    "for i in b:\n",
    "    print(i)"
   ]
  },
  {
   "cell_type": "code",
   "execution_count": 20,
   "metadata": {},
   "outputs": [
    {
     "name": "stdout",
     "output_type": "stream",
     "text": [
      "('a', 'Apple')\n",
      "('b', 'Ball')\n"
     ]
    }
   ],
   "source": [
    "b = {\"a\":\"Apple\",\"b\":\"Ball\"}\n",
    "for i in b.items():\n",
    "    print(i)"
   ]
  },
  {
   "cell_type": "code",
   "execution_count": 22,
   "metadata": {},
   "outputs": [
    {
     "data": {
      "text/plain": [
       "{'a': 'Apple', 'b': 'Ball'}"
      ]
     },
     "execution_count": 22,
     "metadata": {},
     "output_type": "execute_result"
    }
   ],
   "source": [
    "a = {}\n",
    "a[\"a\"]=\"Apple\"\n",
    "a[\"b\"]=\"Ball\"\n",
    "a"
   ]
  },
  {
   "cell_type": "code",
   "execution_count": 27,
   "metadata": {},
   "outputs": [
    {
     "data": {
      "text/plain": [
       "{'a': 'Apple', 'b': 'Ball', 'c': 'Cat'}"
      ]
     },
     "execution_count": 27,
     "metadata": {},
     "output_type": "execute_result"
    }
   ],
   "source": [
    "x = {'a': 'Apple', 'b': 'Ball'}\n",
    "x[\"c\"]=\"Cat\"\n",
    "x"
   ]
  },
  {
   "cell_type": "code",
   "execution_count": 25,
   "metadata": {},
   "outputs": [
    {
     "name": "stdout",
     "output_type": "stream",
     "text": [
      "2\n"
     ]
    }
   ],
   "source": [
    "n = {'a': 'Cat', 'b': 'Ball'}\n",
    "print(len(n))"
   ]
  },
  {
   "cell_type": "code",
   "execution_count": 26,
   "metadata": {},
   "outputs": [
    {
     "ename": "TypeError",
     "evalue": "unsupported operand type(s) for +: 'dict' and 'dict'",
     "output_type": "error",
     "traceback": [
      "\u001b[1;31m---------------------------------------------------------------------------\u001b[0m",
      "\u001b[1;31mTypeError\u001b[0m                                 Traceback (most recent call last)",
      "\u001b[1;32m<ipython-input-26-cfc7615cc455>\u001b[0m in \u001b[0;36m<module>\u001b[1;34m\u001b[0m\n\u001b[0;32m      1\u001b[0m \u001b[0mn\u001b[0m \u001b[1;33m=\u001b[0m \u001b[1;33m{\u001b[0m\u001b[1;34m'a'\u001b[0m\u001b[1;33m:\u001b[0m \u001b[1;34m'Cat'\u001b[0m\u001b[1;33m,\u001b[0m \u001b[1;34m'b'\u001b[0m\u001b[1;33m:\u001b[0m \u001b[1;34m'Ball'\u001b[0m\u001b[1;33m}\u001b[0m\u001b[1;33m\u001b[0m\u001b[1;33m\u001b[0m\u001b[0m\n\u001b[0;32m      2\u001b[0m \u001b[0ma\u001b[0m \u001b[1;33m=\u001b[0m \u001b[1;33m{\u001b[0m\u001b[1;34m'l'\u001b[0m\u001b[1;33m:\u001b[0m\u001b[1;34m\"Lion\"\u001b[0m\u001b[1;33m}\u001b[0m\u001b[1;33m\u001b[0m\u001b[1;33m\u001b[0m\u001b[0m\n\u001b[1;32m----> 3\u001b[1;33m \u001b[0mn\u001b[0m\u001b[1;33m+\u001b[0m\u001b[0ma\u001b[0m\u001b[1;33m\u001b[0m\u001b[1;33m\u001b[0m\u001b[0m\n\u001b[0m",
      "\u001b[1;31mTypeError\u001b[0m: unsupported operand type(s) for +: 'dict' and 'dict'"
     ]
    }
   ],
   "source": [
    "n = {'a': 'Cat', 'b': 'Ball'}\n",
    "a = {'l':\"Lion\"}\n",
    "n+a"
   ]
  },
  {
   "cell_type": "code",
   "execution_count": 28,
   "metadata": {},
   "outputs": [
    {
     "name": "stdout",
     "output_type": "stream",
     "text": [
      "Enter no of students = 2\n",
      "Enter name = Ram\n",
      "Enter name = Shyam\n",
      "{1: 'Ram', 2: 'Shyam'}\n"
     ]
    }
   ],
   "source": [
    "name = {}\n",
    "n = int(input(\"Enter no of students = \"))\n",
    "for i in range(1,n+1):\n",
    "    name[i] = input(\"Enter name = \")\n",
    "print(name)"
   ]
  },
  {
   "cell_type": "code",
   "execution_count": 30,
   "metadata": {},
   "outputs": [
    {
     "data": {
      "text/plain": [
       "{'a': 'Cat', 'b': 'Ball', 'l': 'Lion'}"
      ]
     },
     "execution_count": 30,
     "metadata": {},
     "output_type": "execute_result"
    }
   ],
   "source": [
    "n = {'a': 'Cat', 'b': 'Ball'}\n",
    "a = {'l':\"Lion\"}\n",
    "n[\"l\"] = a[\"l\"]\n",
    "n"
   ]
  },
  {
   "cell_type": "code",
   "execution_count": 31,
   "metadata": {},
   "outputs": [
    {
     "data": {
      "text/plain": [
       "{(1, 2): 'Cat', 'b': 'Ball'}"
      ]
     },
     "execution_count": 31,
     "metadata": {},
     "output_type": "execute_result"
    }
   ],
   "source": [
    "n = {(1,2): 'Cat', 'b': 'Ball'}\n",
    "n"
   ]
  },
  {
   "cell_type": "code",
   "execution_count": 32,
   "metadata": {},
   "outputs": [
    {
     "ename": "TypeError",
     "evalue": "unhashable type: 'list'",
     "output_type": "error",
     "traceback": [
      "\u001b[1;31m---------------------------------------------------------------------------\u001b[0m",
      "\u001b[1;31mTypeError\u001b[0m                                 Traceback (most recent call last)",
      "\u001b[1;32m<ipython-input-32-9db026bc2941>\u001b[0m in \u001b[0;36m<module>\u001b[1;34m\u001b[0m\n\u001b[1;32m----> 1\u001b[1;33m \u001b[0mn\u001b[0m \u001b[1;33m=\u001b[0m \u001b[1;33m{\u001b[0m\u001b[1;33m[\u001b[0m\u001b[1;36m1\u001b[0m\u001b[1;33m,\u001b[0m\u001b[1;36m2\u001b[0m\u001b[1;33m]\u001b[0m\u001b[1;33m:\u001b[0m \u001b[1;34m'Cat'\u001b[0m\u001b[1;33m,\u001b[0m \u001b[1;34m'b'\u001b[0m\u001b[1;33m:\u001b[0m \u001b[1;34m'Ball'\u001b[0m\u001b[1;33m}\u001b[0m\u001b[1;33m\u001b[0m\u001b[1;33m\u001b[0m\u001b[0m\n\u001b[0m\u001b[0;32m      2\u001b[0m \u001b[0mn\u001b[0m\u001b[1;33m\u001b[0m\u001b[1;33m\u001b[0m\u001b[0m\n",
      "\u001b[1;31mTypeError\u001b[0m: unhashable type: 'list'"
     ]
    }
   ],
   "source": [
    "n = {[1,2]: 'Cat', 'b': 'Ball'}\n",
    "n"
   ]
  },
  {
   "cell_type": "code",
   "execution_count": 33,
   "metadata": {},
   "outputs": [
    {
     "data": {
      "text/plain": [
       "'Ram'"
      ]
     },
     "execution_count": 33,
     "metadata": {},
     "output_type": "execute_result"
    }
   ],
   "source": [
    "a = {\"name\":\"Ram\",\"Age\":34,\"Address\":\"Patan\"}\n",
    "a[\"name\"]"
   ]
  },
  {
   "cell_type": "code",
   "execution_count": 34,
   "metadata": {},
   "outputs": [
    {
     "name": "stdout",
     "output_type": "stream",
     "text": [
      "a Apple\n",
      "b Ball\n"
     ]
    }
   ],
   "source": [
    "b = {\"a\":\"Apple\",\"b\":\"Ball\"}\n",
    "for x,y in b.items():\n",
    "    print(x,y)"
   ]
  },
  {
   "cell_type": "code",
   "execution_count": 47,
   "metadata": {},
   "outputs": [
    {
     "name": "stdout",
     "output_type": "stream",
     "text": [
      "Enter n = 2\n",
      "Enter name = ram\n",
      "Enter age= 34\n",
      "Enter Add = Bara\n",
      "1Name\n",
      "1Age\n",
      "1Add\n",
      "Enter name = Shyam\n",
      "Enter age= 67\n",
      "Enter Add = Parsa\n",
      "2Name\n",
      "2Age\n",
      "2Add\n",
      "{'1Name': 'ram', '1Age': 34, '1Add': 'Bara', '2Name': 'Shyam', '2Age': 67, '2Add': 'Parsa'}\n"
     ]
    }
   ],
   "source": [
    "info = {}\n",
    "n = int(input(\"Enter n = \"))\n",
    "for i in range(1,n+1):\n",
    "    name = input(\"Enter name = \")\n",
    "    age = int(input(\"Enter age= \"))\n",
    "    add = input(\"Enter Add = \")\n",
    "    \n",
    "    Name = f\"{i}Name\"\n",
    "    print(Name)\n",
    "    Age = f\"{i}Age\"\n",
    "    print(Age)\n",
    "    Add =f\"{i}Add\"\n",
    "    print(Add)\n",
    "    \n",
    "    info[Name] = name\n",
    "    info[Age] = age\n",
    "    info[Add] = add\n",
    "print(info)"
   ]
  },
  {
   "cell_type": "code",
   "execution_count": 46,
   "metadata": {},
   "outputs": [
    {
     "name": "stdout",
     "output_type": "stream",
     "text": [
      "Enter rooll = 2\n",
      "My roll is 2\n"
     ]
    }
   ],
   "source": [
    "roll = int(input(\"Enter rooll = \"))\n",
    "print(f\"My roll is {roll}\")"
   ]
  },
  {
   "cell_type": "code",
   "execution_count": 48,
   "metadata": {},
   "outputs": [
    {
     "name": "stdout",
     "output_type": "stream",
     "text": [
      "Enter roll = 1\n",
      "['Shyam', 34, 'Patan']\n"
     ]
    }
   ],
   "source": [
    "i = int(input(\"Enter roll = \"))\n",
    "info = {'1Name': 'Ram', '1Age': 34, '1Add': 'Kathmandu', '2Name': 'Shyam', '2Age': 34, '2Add': 'Patan'}\n",
    "\n",
    "# output = [info[f\"{n}Name\"],info[f\"{n}Age\"],info[f\"{n}Add\"]]\n",
    "output = [  info[Name] , info[Age] ,  info[Add] ]\n",
    "print(output)"
   ]
  },
  {
   "cell_type": "code",
   "execution_count": 42,
   "metadata": {},
   "outputs": [
    {
     "name": "stdout",
     "output_type": "stream",
     "text": [
      "Enter roll = 3\n",
      "Enter name = Hari\n",
      "Enter age = 45\n",
      "Enter add = Bara\n"
     ]
    }
   ],
   "source": [
    "n = int(input(\"Enter roll = \"))\n",
    "info = {'1Name': 'Ram', '1Age': 34, '1Add': 'Kathmandu', '2Name': 'Shyam', '2Age': 34, '2Add': 'Patan'}\n",
    "\n",
    "info[f\"{n}Name\"] = input(\"Enter name = \")\n",
    "info[f\"{n}Age\"] = int(input(\"Enter age = \"))\n",
    "info[f\"{n}Add\"] = input(\"Enter add = \")"
   ]
  },
  {
   "cell_type": "code",
   "execution_count": 43,
   "metadata": {},
   "outputs": [
    {
     "data": {
      "text/plain": [
       "{'1Name': 'Ram',\n",
       " '1Age': 34,\n",
       " '1Add': 'Kathmandu',\n",
       " '2Name': 'Shyam',\n",
       " '2Age': 34,\n",
       " '2Add': 'Patan',\n",
       " '3Name': 'Hari',\n",
       " '3Age': 45,\n",
       " '3Add': 'Bara'}"
      ]
     },
     "execution_count": 43,
     "metadata": {},
     "output_type": "execute_result"
    }
   ],
   "source": [
    "info"
   ]
  },
  {
   "cell_type": "code",
   "execution_count": 44,
   "metadata": {},
   "outputs": [
    {
     "name": "stdout",
     "output_type": "stream",
     "text": [
      "Enter roll = 3\n",
      "Enter add = Parsa\n"
     ]
    }
   ],
   "source": [
    "n = int(input(\"Enter roll = \"))\n",
    "info[f\"{n}Add\"] = input(\"Enter add = \")"
   ]
  },
  {
   "cell_type": "code",
   "execution_count": 45,
   "metadata": {},
   "outputs": [
    {
     "data": {
      "text/plain": [
       "{'1Name': 'Ram',\n",
       " '1Age': 34,\n",
       " '1Add': 'Kathmandu',\n",
       " '2Name': 'Shyam',\n",
       " '2Age': 34,\n",
       " '2Add': 'Patan',\n",
       " '3Name': 'Hari',\n",
       " '3Age': 45,\n",
       " '3Add': 'Parsa'}"
      ]
     },
     "execution_count": 45,
     "metadata": {},
     "output_type": "execute_result"
    }
   ],
   "source": [
    "info"
   ]
  },
  {
   "cell_type": "code",
   "execution_count": 37,
   "metadata": {},
   "outputs": [
    {
     "name": "stdout",
     "output_type": "stream",
     "text": [
      "Enter n = 2\n",
      "Enter name = Shyam\n",
      "Enter age= 45\n",
      "Enter Add = Patan\n",
      "Enter name = Ram\n",
      "Enter age= 89\n",
      "Enter Add = Kathmandu\n",
      "{'Name': 'Ram', 'Age': 89, 'Add': 'Kathmandu'}\n"
     ]
    }
   ],
   "source": [
    "info = {}\n",
    "n = int(input(\"Enter n = \"))\n",
    "for i in range(1,n+1):\n",
    "    name = input(\"Enter name = \")\n",
    "    age = int(input(\"Enter age= \"))\n",
    "    add = input(\"Enter Add = \")\n",
    "    info[\"Name\"] = name\n",
    "    info[\"Age\"] = age\n",
    "    info[\"Add\"] = add\n",
    "print(info)"
   ]
  },
  {
   "cell_type": "code",
   "execution_count": null,
   "metadata": {},
   "outputs": [],
   "source": []
  }
 ],
 "metadata": {
  "kernelspec": {
   "display_name": "Python 3",
   "language": "python",
   "name": "python3"
  },
  "language_info": {
   "codemirror_mode": {
    "name": "ipython",
    "version": 3
   },
   "file_extension": ".py",
   "mimetype": "text/x-python",
   "name": "python",
   "nbconvert_exporter": "python",
   "pygments_lexer": "ipython3",
   "version": "3.5.5"
  }
 },
 "nbformat": 4,
 "nbformat_minor": 2
}
